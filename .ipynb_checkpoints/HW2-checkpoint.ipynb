{
 "cells": [
  {
   "cell_type": "markdown",
   "metadata": {},
   "source": [
    "# HW2"
   ]
  },
  {
   "cell_type": "markdown",
   "metadata": {},
   "source": [
    "**1) A little introductory brain teaser. Which is more probable when rolling 2 six-sided dice: rolling snake eyes (two ones) or rolling sevens (dice sum to seven)? What is the ratio of the probabilities?**"
   ]
  },
  {
   "cell_type": "markdown",
   "metadata": {},
   "source": [
    "The pobability of rolling two ones $ = \\frac{1}{6} \\cdot \\frac{1}{6} = \\frac{1}{36}$.\n",
    "\n",
    "Rolling sevens: one dice is allowed to row a value from 1 to 6, then the other dice must roll (7 - that value), so the probability $ = \\frac{6}{6} \\cdot \\frac{1}{6} = \\frac{1}{6}$.\n",
    "\n",
    "Thus rolling sevens is more probable, and the ratio of the probabilities is $(\\frac{1}{6}) /  (\\frac{1}{36}) = 6 : 1$."
   ]
  },
  {
   "cell_type": "markdown",
   "metadata": {},
   "source": [
    "**2) Following what we did in class show how to use the convolution operator to determine the probability of the sum of 2 six sided dice. Do both analytically (math & counting) and numerically (computer program). Beware the implicit definition of the values (x-axis on histogram).**"
   ]
  },
  {
   "cell_type": "markdown",
   "metadata": {},
   "source": [
    "The probability mass function of the result of rolling 2 six-sided dices is the self-convolution of the pmf of the result of rolling one six-sided dice:\n",
    "\\begin{align}\n",
    "P_{\\text{2 dices}}(x) = P_{\\text{1 dice}} * P_{\\text{1 dice}} = \\sum_{z=-\\infty}^{\\infty} P_{\\text{1 dice}}(z)P_{\\text{1 dice}}(x-z),\n",
    "\\end{align}\n",
    "\n",
    "where $P_{\\text{1 dice}}(x) = \\frac{1}{6}$ when $x=1,2,...,6$ and equals $0$ otherwise.\n",
    "\n",
    "I did calculate the probability distribution analytically, but the result I got was the same as the result I obtained numerically from Python as shown below."
   ]
  },
  {
   "cell_type": "code",
   "execution_count": 2,
   "metadata": {},
   "outputs": [],
   "source": [
    "# Import Libraries\n",
    "%matplotlib inline\n",
    "import numpy as np\n",
    "import matplotlib\n",
    "import matplotlib.pyplot as plt\n",
    "import scipy\n",
    "from scipy import stats"
   ]
  },
  {
   "cell_type": "markdown",
   "metadata": {},
   "source": [
    "Calculate the PMF numerically (using Python):"
   ]
  },
  {
   "cell_type": "code",
   "execution_count": 3,
   "metadata": {},
   "outputs": [
    {
     "name": "stdout",
     "output_type": "stream",
     "text": [
      "P_2dice = 1/36 * [1 2 3 4 5 6 5 4 3 2 1]\n",
      "The dice roll values corresponding to the probailities are [2, 3, 4, 5, 6, 7, 8, 9, 10, 11, 12]\n"
     ]
    }
   ],
   "source": [
    "\n",
    "sides = 6\n",
    "p1 = np.ones(6, dtype=int) # p1 is not the actual probability, but 6 times the probabilities of one dice roll\n",
    "p2 = np.convolve(p1, p1) # p2 is 36 times the actual probabilities of the sum of two dice rolls\n",
    "x2 = list(range(2,2*sides + 1))\n",
    "print(\"P_2dice = 1/%d * %s\" % (sum(p2), str(p2)))\n",
    "print(\"The dice roll values corresponding to the probailities are %s\" % str(x2))\n",
    "      "
   ]
  },
  {
   "cell_type": "markdown",
   "metadata": {},
   "source": [
    "**3) Calculate the mean and the variance of the distribution in problem 2. Hint: this is surprisingly tricky, make sure your result makes sense.**\n",
    "\n"
   ]
  },
  {
   "cell_type": "markdown",
   "metadata": {},
   "source": [
    "I did the calculation in Python："
   ]
  },
  {
   "cell_type": "code",
   "execution_count": 7,
   "metadata": {},
   "outputs": [
    {
     "name": "stdout",
     "output_type": "stream",
     "text": [
      "The mean is 7.000000.\n",
      "The variance is 5.833333.\n"
     ]
    }
   ],
   "source": [
    "mu2 = sum(p2*x2)/sum(p2) # I made a mistake here. This variable should be called x-bar2 or k-bar2 instead of mu2\n",
    "                         # since I'm calculating a population mean instead of a sample mean\n",
    "variance2 = sum((x2-mu2)**2 * p2)/sum(p2)\n",
    "print(\"The mean is %f.\" % mu2)\n",
    "print(\"The variance is %f.\" % variance2)"
   ]
  },
  {
   "cell_type": "markdown",
   "metadata": {},
   "source": [
    "**4) Repeat 2, and graph the average of 10 dice. Is this is a Gaussian distribution? Explain in depth.**"
   ]
  },
  {
   "cell_type": "code",
   "execution_count": 12,
   "metadata": {},
   "outputs": [
    {
     "data": {
      "image/png": "[encoded data removed]",
      "text/plain": [
       "<Figure size 576x360 with 1 Axes>"
      ]
     },
     "metadata": {
      "needs_background": "light"
     },
     "output_type": "display_data"
    }
   ],
   "source": [
    "n_dices = 10\n",
    "p = 1\n",
    "\n",
    "f, ax = plt.subplots(1, 1, figsize=(8, 5))\n",
    "for i in range(0,n_dices):\n",
    "    p = np.convolve(p,p1)\n",
    "x = list(range(n_dices,n_dices*sides+1))\n",
    "avg_x = 1.0 / n_dices * np.array(x, dtype=np.float32)\n",
    "ax.vlines(avg_x, [0], p / sum(p))\n",
    "\n",
    "ax.set_xlabel('Random Variable')\n",
    "ax.set_ylabel('Probability')\n",
    "ax.set_title('PMF of Average of 10 Dice Rolls')\n",
    "\n",
    "plt.show()"
   ]
  },
  {
   "cell_type": "markdown",
   "metadata": {},
   "source": [
    "This distribution does have a shape similar to that of a Gaussian distribution, but it's not, and it differs from a Gaussian in many ways. The most obvious difference is that Gaussian distributions are PDFs while this one is a PMF. To convert A PMF into a PDF we need to do the transformation\n",
    "\\begin{align}\n",
    "\\text{Pr}(x) = \\Sigma_i p(k_i) \\delta(x-k_i),\n",
    "\\end{align}\n",
    "where Pr(x) is the resulting PDF, $p(k)$ is the original PMF, $\\delta$ means a delta fuction, and $k_i$ correspond to all of the allowed values in the PMF. The above distribution would still not be a Gaussian after this conversion, since a Gaussian obviously doesn't look like many separate delta function.\n",
    "\n",
    "\n",
    "According to the central limit theorem, the probability function of the mean of n values taken from any distribution would converge to a Gaussian distribution as n goes to infinity. The distribution shown in the graph above is the probability mass function of the mean of the values obtained from 10 dice rolls. Thus it is expected to be converging to a Gaussian distribution. But since the PMF of 1 dice roll is not a Gaussian, the resulting distribution would never be exactly a Gaussian no matter how many dice rolls are averaged."
   ]
  },
  {
   "cell_type": "markdown",
   "metadata": {},
   "source": [
    "**5) Show that the sum and average of an initially Gaussian distribution is also a Guassian (can be analytic or numerical). How does the standard deviation of the resulting sum or average Guassian change? This is a hugely important result. Explore what this means for integrating a signal over time.**"
   ]
  },
  {
   "cell_type": "markdown",
   "metadata": {},
   "source": [
    "To show this, I did the integration of two different gaussians $\\mathcal{N}(\\mu_1, \\sigma_1^2)$ and $\\mathcal{N}(\\mu_2, \\sigma_2^2)$, where $\\mu_1, \\mu_2$ are their means and $\\sigma_1, \\sigma_2$ are their standard deviation values."
   ]
  },
  {
   "cell_type": "markdown",
   "metadata": {},
   "source": [
    "\\begin{align}\n",
    "\\varphi_{1+2}(x)\n",
    "=& \\varphi_1(x) * \\varphi_2(x) \\\\=& \\int_{-\\infty}^{\\infty}\\varphi_1(x') \\varphi_2(x-x') \\,dx'\\\\\n",
    "=&\\int_{-\\infty}^{\\infty} \\frac{1}{\\sigma_1\\sqrt{2\\pi}}e^{-(x'-\\mu_1)^2/(2\\sigma_1^2)}\\frac{1}{\\sigma_2\\sqrt{2\\pi}}e^{-(x-x'-\\mu_2)^2/(2\\sigma_2^2)} \\,dx'\\\\\n",
    "=&\\frac{1}{\\sqrt{\\sigma_1^2 + \\sigma_2^2} \\sqrt{2\\pi}} e^{-(x-\\mu_1-\\mu_2)^2/(2\\sigma_1^2)} \\int_{-\\infty}^{\\infty} \\frac{\\sqrt{ \\sigma_1^2 + \\sigma_2^2 }}{\\sigma_1 \\sigma_2 \\sqrt{2\\pi}}e^{-(x'-\\mu_1-\\frac{\\sigma_2^2}{\\sigma_1^2+\\sigma_2^2} (x-\\mu_1-\\mu_2))^2/(2 \\frac{\\sigma_1^2\\sigma_2^2}{\\sigma_1^2 + \\sigma_2^2})} \\,dx'\\\\\n",
    "=&\\frac{1}{\\sqrt{\\sigma_1^2 + \\sigma_2^2} \\sqrt{2\\pi}} e^{-(x-\\mu_1-\\mu_2)^2/(2(\\sigma_1^2 + \\sigma_2^2))}\n",
    "\\end{align}"
   ]
  },
  {
   "cell_type": "markdown",
   "metadata": {},
   "source": [
    "As shown, the sum of two Gaussian distributions $\\mathcal{N}(\\mu_1, \\sigma_1^2)$ and $\\mathcal{N}(\\mu_2, \\sigma_2^2)$ is is a new Gaussian $\\mathcal{N}(\\mu_1 + \\mu_2, \\sigma_1^2 + \\sigma_2^2)$"
   ]
  },
  {
   "cell_type": "markdown",
   "metadata": {},
   "source": [
    "So if we sum the Gaussian distribution $\\mathcal{N}(\\mu, \\sigma^2)$ with itself $n$ times, we would get $\\mathcal{N}(n\\mu, n\\sigma^2)$. The standard deviation is $\\sqrt{n}\\sigma$, which is $\\sqrt{n}$ times the original value.\n",
    "\n",
    "Then, if we take the average, that is, divide the horizontal axis by n (and multiply the vertical by n), we would have both the mean and the standard deviation of the distribution divided by n, so we would get $\\mathcal{N}(\\mu, \\frac{1}{n}\\sigma^2)$. So the final standard deviation is $\\sqrt{\\frac{1}{n}}\\sigma$, which is $\\sqrt{\\frac{1}{n}}$ of the original value..\n",
    "\n"
   ]
  },
  {
   "cell_type": "code",
   "execution_count": null,
   "metadata": {},
   "outputs": [],
   "source": []
  },
  {
   "cell_type": "code",
   "execution_count": null,
   "metadata": {},
   "outputs": [],
   "source": []
  }
 ],
 "metadata": {
  "kernelspec": {
   "display_name": "Python 3",
   "language": "python",
   "name": "python3"
  },
  "language_info": {
   "codemirror_mode": {
    "name": "ipython",
    "version": 3
   },
   "file_extension": ".py",
   "mimetype": "text/x-python",
   "name": "python",
   "nbconvert_exporter": "python",
   "pygments_lexer": "ipython3",
   "version": "3.7.4"
  }
 },
 "nbformat": 4,
 "nbformat_minor": 4
}
