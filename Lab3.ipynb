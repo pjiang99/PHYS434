{
 "cells": [
  {
   "cell_type": "markdown",
   "metadata": {},
   "source": [
    "# PHYS 434 Lab 3 #\n",
    "\n",
    "Tianhao Jiang"
   ]
  },
  {
   "cell_type": "code",
   "execution_count": 1,
   "metadata": {},
   "outputs": [],
   "source": [
    "%matplotlib inline\n",
    "import numpy as np\n",
    "import matplotlib\n",
    "import matplotlib.pyplot as plt\n",
    "import scipy\n",
    "import math\n",
    "from scipy import stats\n",
    "from scipy import signal\n",
    "from math import floor"
   ]
  },
  {
   "cell_type": "markdown",
   "metadata": {},
   "source": [
    "## Problem 1 ##\n",
    "In our first example we are looking at the temperature reading (meta-data) associated with an experiment. For the experiment to work reliably, the temperature should be at around 12 Kelvin, and if we look at the data it is mostly consistent with 12 Kelvin to within the 0.4 degree precision of the thermometry and the thermal control system (standard deviation). However, there are times when the thermal control system misbehaved and the temperature was not near 12 K, and in addition there are various glitches in the thermometry that give anomalously high and low readings (the reading does not match the real temperature). We definitely want to identify and throw out all the data when the thermal control system was not working (and the temperature was truly off from nominal). While it is possible to have an error in the thermometry such that the true temperature was fine, and we just had a wonky reading, in an abundance of caution we want to throw those values out too.\n",
    "\n",
    "To make this a bit concrete, we will simulate a little data. Start by simulating 100k 'good' data points assuming Gaussian fluctations, and because we are playing god adding the following 'bad' datapoints: {10., 10.3, 2.1, 0., 0., 15.6, 22.3, 12.7}"
   ]
  },
  {
   "cell_type": "code",
   "execution_count": 13,
   "metadata": {},
   "outputs": [
    {
     "data": {
      "image/png": "[encoded data removed]",
      "text/plain": [
       "<Figure size 1440x720 with 1 Axes>"
      ]
     },
     "metadata": {
      "needs_background": "light"
     },
     "output_type": "display_data"
    }
   ],
   "source": [
    "sd = 0.4\n",
    "mean = 12.\n",
    "numdata = 100000\n",
    "data = stats.norm.rvs(loc = mean, scale = sd, size = numdata, random_state=1234)\n",
    "baddata = np.array([10., 10.3, 2.1, 0., 0., 15.6, 22.3, 12.7])\n",
    "d = np.append(data, baddata)\n",
    "fig, ax = plt.subplots(1, 1)\n",
    "ax.hist(d,100, density=True)\n",
    "plt.tick_params(labelsize = 24)\n",
    "plt.yscale('log')\n",
    "#plt.xlim(10,14)\n",
    "\n",
    "plt.rcParams[\"figure.figsize\"] = (20,7)\n",
    "#plt.rcParams[\"figure.figsize\"] = (6,4)\n",
    "x = np.linspace(10,14,1000)\n",
    "ax.plot(x,stats.norm.pdf(x,loc = 12., scale = sd),linewidth = 7,alpha = 0.7)\n",
    "plt.show()"
   ]
  },
  {
   "cell_type": "markdown",
   "metadata": {},
   "source": [
    "**A) So our goal is to identify bad data and throw it out.**\n",
    "\n",
    "There are 5 data points at temperatures [0, 2, 10, 15.6, 22.3] which we can identify to be bad data before doing any analysis. As can be see from the semilog plot above, the data at these 5 points appear as small peaks that are separate from the large peak at the center, and the heights of the histogram at these points are also much heigher than their expected values (shown by the orange curve). Thus it's most likely that the data at these points are not drawn from the source Gaussian distribution.\n",
    "\n",
    "We know the good temperatures are drawn from a Gaussian distribution with its mean = 12 and standard deviation = 0.4. \n",
    "\n",
    "My statistical question is, if I consider all the data that is more than 3 standard deviations from the mean of the distribution as bad data, which data will I keep and which will I discard? \n",
    "\n",
    "I can also ask what percentage of good data I can expect to keep if I choose the (mean +/-3sd) range. \n",
    "\n",
    "The purpose of this question is to keep as much good data as possible and discard as much bad data as possible. By choosing a range of +/-3 sd from the mean and knowing that the distribution is Gaussian, I can expect to keep 99.73% of the good data. Also, the width of the range 0.4*3*2 = 2.4 is not too big, so I could probably be confident that most of the bad data are outside of this range.\n",
    "\n",
    "Converting the qeustions to math:\n",
    "\n",
    "For my first question, I would keep all the data within the range of 12 +/-3*0.4 = (10.8, 13.2) and discard all the data outside of the range.\n",
    "\n",
    "For my second question, the percentage equals the integral from 10.8 to 13.2 on the good data's population distribution, which equals the integral from -3 to 3 on a standard normal distribution = 2 * (norm.cdf(3,0,1) - 0.5) * 100% = 99.73%\n",
    "\n",
    "\n",
    "\n"
   ]
  },
  {
   "cell_type": "code",
   "execution_count": 3,
   "metadata": {},
   "outputs": [
    {
     "name": "stdout",
     "output_type": "stream",
     "text": [
      "Range of temperature considered to be good data: mean +/-3.00 * sd = (10.80, 13.20)\n",
      "My truth table:\n",
      "I test good, true T: 99741; I test good, bad T: 1;\n",
      "I test bad, true T: 259; I test bad, bad T: 7.\n",
      "0.2590% of good data omitted, 0.2700% expected.\n",
      "Bad data removed: [10.  10.3  2.1  0.   0.  15.6 22.3]\n",
      "Bad data kept: [12.7]\n"
     ]
    }
   ],
   "source": [
    "k = 3\n",
    "result = (d < mean - sd * k) | (d > mean + sd * k)\n",
    "goodremoved = data[result[0:numdata]]\n",
    "badremoved = baddata[result[numdata:len(result)]]\n",
    "\n",
    "#print(\"k = %.2f\" % k)\n",
    "print(\"Range of temperature considered to be good data: mean +/-%.2f * sd = (%.2f, %.2f)\" % (k, mean - sd * k, mean + sd * k))\n",
    "print(\"My truth table:\")\n",
    "print(\"I test good, true T: %i; I test good, bad T: %i;\" % (len(data)-len(goodremoved), len(baddata)-len(badremoved)))\n",
    "print(\"I test bad, true T: %i; I test bad, bad T: %i.\" % (len(goodremoved), len(badremoved)))\n",
    "print(\"%s of good data omitted, %s expected.\" % (\"{0:.4%}\".format(len(goodremoved)/len(data)), \"{0:.4%}\".format(2-2*stats.norm.cdf(k,0,1))))\n",
    "print(\"Bad data removed: %s\" % str(badremoved))\n",
    "print(\"Bad data kept: %s\" % str(baddata[~result[numdata:len(result)]]))"
   ]
  },
  {
   "cell_type": "markdown",
   "metadata": {},
   "source": [
    "**B) How does the number of omissions, where you threw out good data, depend on the statistical threshold you chose and is it a predictable quantity?**\n",
    "\n",
    "**C) Are there mistakes of commission (bad data getting in)? If yes, are they avoidable and how do they depend on your statistical threshold?**\n",
    "\n",
    "Below I also calculated the test results when I choose the range to be (mean +/- k*sd) with k set to different values."
   ]
  },
  {
   "cell_type": "code",
   "execution_count": 4,
   "metadata": {},
   "outputs": [
    {
     "name": "stdout",
     "output_type": "stream",
     "text": [
      "k = 1.00\n",
      "Range of temperature considered to be good data: mean +/-1.00 * sd = (11.60, 12.40)\n",
      "My truth table:\n",
      "I test good, true T: 68120; I test good, bad T: 0;\n",
      "I test bad, true T: 31880; I test bad, bad T: 8.\n",
      "31.8800% of good data omitted, 31.7311% expected.\n",
      "Bad data removed: [10.  10.3  2.1  0.   0.  15.6 22.3 12.7]\n",
      "Bad data kept: []\n",
      "\n",
      "k = 2.00\n",
      "Range of temperature considered to be good data: mean +/-2.00 * sd = (11.20, 12.80)\n",
      "My truth table:\n",
      "I test good, true T: 95491; I test good, bad T: 1;\n",
      "I test bad, true T: 4509; I test bad, bad T: 7.\n",
      "4.5090% of good data omitted, 4.5500% expected.\n",
      "Bad data removed: [10.  10.3  2.1  0.   0.  15.6 22.3]\n",
      "Bad data kept: [12.7]\n",
      "\n",
      "k = 4.00\n",
      "Range of temperature considered to be good data: mean +/-4.00 * sd = (10.40, 13.60)\n",
      "My truth table:\n",
      "I test good, true T: 99998; I test good, bad T: 1;\n",
      "I test bad, true T: 2; I test bad, bad T: 7.\n",
      "0.0020% of good data omitted, 0.0063% expected.\n",
      "Bad data removed: [10.  10.3  2.1  0.   0.  15.6 22.3]\n",
      "Bad data kept: [12.7]\n",
      "\n",
      "k = 8.00\n",
      "Range of temperature considered to be good data: mean +/-8.00 * sd = (8.80, 15.20)\n",
      "My truth table:\n",
      "I test good, true T: 100000; I test good, bad T: 3;\n",
      "I test bad, true T: 0; I test bad, bad T: 5.\n",
      "0.0000% of good data omitted, 0.0000% expected.\n",
      "Bad data removed: [ 2.1  0.   0.  15.6 22.3]\n",
      "Bad data kept: [10.  10.3 12.7]\n",
      "\n"
     ]
    }
   ],
   "source": [
    "ks = [1, 2, 4, 8]\n",
    "for k in ks:\n",
    "    result = (d < mean - sd * k) | (d > mean + sd * k)\n",
    "    goodremoved = data[result[0:numdata]]\n",
    "    badremoved = baddata[result[numdata:len(result)]]\n",
    "    print(\"k = %.2f\" % k)\n",
    "    print(\"Range of temperature considered to be good data: mean +/-%.2f * sd = (%.2f, %.2f)\" % (k, mean - sd * k, mean + sd * k))\n",
    "    print(\"My truth table:\")\n",
    "    print(\"I test good, true T: %i; I test good, bad T: %i;\" % (len(data)-len(goodremoved), len(baddata)-len(badremoved)))\n",
    "    print(\"I test bad, true T: %i; I test bad, bad T: %i.\" % (len(goodremoved), len(badremoved)))\n",
    "    print(\"%s of good data omitted, %s expected.\" % (\"{0:.4%}\".format(len(goodremoved)/len(data)), \"{0:.4%}\".format(2-2*stats.norm.cdf(k))))\n",
    "    print(\"Bad data removed: %s\" % str(badremoved))\n",
    "    print(\"Bad data kept: %s\\n\" % str(baddata[~result[numdata:len(result)]]))"
   ]
  },
  {
   "cell_type": "markdown",
   "metadata": {},
   "source": [
    "As shown, as k increases, less good data will be omitted, but more bad data will be included.\n",
    "\n",
    "The percentage of good data omitted when the range is (mean +/- k \\* sd) can be predicted by calculating    (2-2*stats.norm.cdf(k)).\n",
    "\n",
    "No bad data is included when k=1. However, we cannot calculate how many bad data we will expect to include without knowing the bad data's population distribution."
   ]
  },
  {
   "cell_type": "markdown",
   "metadata": {},
   "source": [
    "## Problem 2 ##\n",
    "In this example we will be looking for asteroids. If we look at the alignment of stars on subsequent images, they don't perfectly align due to atmospheric and instrumental effects (even ignoring proper motion). The resulting distribution is two dimensional, and for this lab let's assume it is a 2D Gaussian with 1 arcsecond RMS. Or said another way, if I histogram how far all the (stationary) stars appear to have moved I get something like:"
   ]
  },
  {
   "cell_type": "markdown",
   "metadata": {},
   "source": [
    "**If I have a potential asteroid, it will have some true movement between the images. We would like a '5 sigma' detection of movement. What is that distance in arcseconds?**\n",
    "\n",
    "My question: \n",
    "\n",
    "Knowing that the background is a 2D Gaussian distribution with an RMS of 1 arcsecond, and suppose I make an observation, what is the smallest distance of my observation from the center of my background distribution needed for my observation to be 5-sigma?\n",
    "\n",
    "A 2D Gaussian with a 1 arcsecond RMS is equivalent to the joint distribution of two Gaussian both with a 1 arcsecond standard deviation. As proved in HW3, the distribution of the distance from origin on this distribution is a Rayleigh distribution with a parameter of 1 arcsecond.\n",
    "\n",
    "Thus we first need to integrate a standard normal distribution from -infinity to 5 to find the probability, and then insert this probability into the PPF of the Rayleigh distribution to find the distiance."
   ]
  },
  {
   "cell_type": "code",
   "execution_count": 5,
   "metadata": {},
   "outputs": [
    {
     "name": "stdout",
     "output_type": "stream",
     "text": [
      "The minimum distance needed for a 5-sigma detection is 5.489080 arcseconds.\n"
     ]
    }
   ],
   "source": [
    "prob = stats.norm.cdf(5)\n",
    "distance = stats.rayleigh.ppf(prob)\n",
    "print(\"The minimum distance needed for a 5-sigma detection is %f arcseconds.\" % distance)"
   ]
  },
  {
   "cell_type": "markdown",
   "metadata": {},
   "source": [
    "## Problem 3 ##\n",
    "As we discussed in class, one of the key backgrounds for gamma-ray telescopes are cosmic rays. Cosmic rays are charged particles—usually protons or electrons but can include atomic nuclei such a alpha particles (helium) or iron. Because of their charge cosmic rays spiral in the magnetic field of the galaxy. From the perspective of the Earth they appear to be coming uniformly from all directions like a high energy gas, and the direction the cosmic ray is travelling when it reaches the Earth tells us nothing about where it came from because we don't know what tortured path it has taken through the galaxy to reach us. However, at trillion electron volt energies and above, the spiral loops are fairly big and the sun and the moon will block cosmic rays. This means the sun and the moon appear as holes in the cosmic ray sky (cosmic rays from that direction are absorbed).\n",
    "\n",
    "**Assume in a moon sized patch on the sky we normally have a cosmic ray rate of 1 cosmic ray per minute (arrivals are random in time). If we can observe where the moon is for 8 hours per night (not too close to the horizon) and we observe for 15 days and see 6800 cosmic rays, what is the signficance of our moon shadow detection?**"
   ]
  },
  {
   "cell_type": "markdown",
   "metadata": {},
   "source": [
    "We are assuming that the rate of cosmic ray detection is 1 per minute or 1*60*8*15=7200 per 15*8=120 hours when the Moon or the sun aren't blocking the area of detection. Under this assumption, we know that normally the distribution of the number of cosmic ray detections in any 120 hours interval is a Poission distribution with its mean = 7200. \n",
    "\n",
    "The moon blocks cosmic rays, so I would expect the cosmic ray rate to be lower than 1 ray per minute when affecte by the moon. So if any of my measurements is affected by the moon, the number of rays I observe after 120 hours would be drawn from a Poisson with its mean < 7200. \n",
    "\n",
    "I want to prove my moon shadow detection, so my null hypothesis is that the mean of the Poisson > 7200. Thus the question is, given that I observed a total of 6800 cosmic rays and that this total number of rays is drawn from a Poission distribution, what is the probability that the Poission distribution has a mean > 7200. \n",
    "\n",
    "Let $f(k;\\lambda)$ be the PMF of a Poission distribution with its mean = $\\lambda$, then the probability equals\n",
    "\n",
    "$$\n",
    "\\int_{7200}^{\\infty} f(6800; \\lambda) \\, d\\lambda.\n",
    "$$\n",
    "\n",
    "This integral can be shown to be equal to \n",
    "$$\n",
    "\\sum_{k=0}^{6800} f(k;7200).\n",
    "$$"
   ]
  },
  {
   "cell_type": "code",
   "execution_count": 6,
   "metadata": {},
   "outputs": [
    {
     "name": "stdout",
     "output_type": "stream",
     "text": [
      "The probabilty is 1.013328e-06, which is 4.75-sigma.\n",
      "Thus the chance that my observations are infuenced the shadow of the Moon is (1-1.013328e-06),\n",
      "and my moon shadow detection has a shgnificance of 4.75-sigma.\n"
     ]
    }
   ],
   "source": [
    "prob = stats.poisson.cdf(6800, mu = 7200)\n",
    "sigmas = stats.norm.ppf(1-prob)\n",
    "print(\"The probabilty is %e, which is %.2f-sigma.\" % (prob, sigmas))\n",
    "print(\"Thus the chance that my observations are infuenced the shadow of the Moon is (1-%e),\" % prob)\n",
    "print(\"and my moon shadow detection has a shgnificance of %.2f-sigma.\" % sigmas)"
   ]
  }
 ],
 "metadata": {
  "kernelspec": {
   "display_name": "Python 3",
   "language": "python",
   "name": "python3"
  },
  "language_info": {
   "codemirror_mode": {
    "name": "ipython",
    "version": 3
   },
   "file_extension": ".py",
   "mimetype": "text/x-python",
   "name": "python",
   "nbconvert_exporter": "python",
   "pygments_lexer": "ipython3",
   "version": "3.7.4"
  }
 },
 "nbformat": 4,
 "nbformat_minor": 4
}
